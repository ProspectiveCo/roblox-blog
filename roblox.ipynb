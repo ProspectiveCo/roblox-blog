{
 "cells": [
  {
   "cell_type": "code",
   "execution_count": 18,
   "metadata": {
    "tags": []
   },
   "outputs": [
    {
     "name": "stdout",
     "output_type": "stream",
     "text": [
      "catalog is cached\n",
      "items found: 2498\n"
     ]
    }
   ],
   "source": [
    "###\n",
    "### Fetch full item catalog\n",
    "###\n",
    "\n",
    "# format:\n",
    "# \"id\":9,\n",
    "# \"roblox_assetid\":21070012,\n",
    "# \"roblox_rap\":13577229,\n",
    "# \"roblox_value\":20000000,\n",
    "# \"robux_volume_30d_total\":0,\n",
    "# \"popularity_position\":2499,\n",
    "# \"is_valued\":true,\n",
    "# \"is_rare\":true,\n",
    "# \"is_projected\":false,\n",
    "# \"roblox_name\":\"Dominus Empyreus\",\n",
    "# \"roblox_acronym\":\"Emp\",\n",
    "# \"roblox_lowestprice\":\"600000000\",\n",
    "# \"price_updated_at\":\"2023-04-29T18:23:17.345959Z\",\n",
    "# \"went_limited_at\":\"2010-01-23T01:25:00.407Z\",\n",
    "# \"image\":{\"420\":\"https://tr.rbxcdn.com/b34f3766b22d7db843c8252000b4f555/420/420/Hat/Png\",\n",
    "# \"150\":\"https://tr.rbxcdn.com/b34f3766b22d7db843c8252000b4f555/150/150/Hat/Png\",\n",
    "# \"30\":\"https://tr.rbxcdn.com/b34f3766b22d7db843c8252000b4f555/30/30/Hat/Png\"}\n",
    "\n",
    "import requests\n",
    "import json\n",
    "\n",
    "# NOTE: This is not the entire Roblox catalog. It is just the items with limited quantity.\n",
    "# These are the only items which actually carry IRL value. (Scarcity = value)\n",
    "# Limiteds can be official Roblox gear or they can be UGC (user generated content).\n",
    "url = \"https://rblx.trade/api/v1/catalog/all\"\n",
    "dir = \"./roblox-catalog.json\"\n",
    "try:\n",
    "    file = open(dir, \"r\")\n",
    "    print(\"catalog is cached\")\n",
    "    catalog = json.loads(file.read())\n",
    "    file.close()\n",
    "except:\n",
    "    catalog_req = requests.get(url)\n",
    "    print(\"no cache found at \" + url + \"; sending request\")\n",
    "    print(\"status: \" + str(catalog_req.status_code))\n",
    "    catalog = json.loads(catalog_req.text)\n",
    "    file = open(dir, \"w\")\n",
    "    file.write(catalog_req.text)\n",
    "    file.close()\n",
    "\n",
    "print(\"items found: \" + str(len(catalog)))\n",
    "\n",
    "# clustering -> vectoring -> graph euclidian distance over points on x-y plots -> check out smallest vector distances\n",
    "# used in AI - see vector databases\n",
    "# vector databases take the vector fields and store them, then do the calcs. used during ai training process\n",
    "# visualize vector databases\n",
    "# vector database as data source -> gradient output, heatmap? \n",
    "# track over time - which had the highest changes?"
   ]
  },
  {
   "cell_type": "code",
   "execution_count": 17,
   "metadata": {
    "tags": []
   },
   "outputs": [
    {
     "name": "stdout",
     "output_type": "stream",
     "text": [
      "SKIPPED #99254358 (in cache)\u001b[2KKKK\r"
     ]
    }
   ],
   "source": [
    "###\n",
    "### Fetch asset prices and volumes\n",
    "###\n",
    "\n",
    "# format:\n",
    "# [{\n",
    "#    average_price: Number,     // in robux\n",
    "#    volume: Number,            // number of trades,\n",
    "#    date: Number,              // unix timestamp\n",
    "# }]\n",
    "\n",
    "import os\n",
    "import requests\n",
    "import time\n",
    "\n",
    "item_history_by_id = None\n",
    "dir = \"./roblox-itemvalues/\"\n",
    "try:\n",
    "    os.mkdir(dir)\n",
    "except:\n",
    "    None\n",
    "history_api = \"https://rblx.trade/api/v1/item/graph/price-and-volume?assetId=\"\n",
    "\n",
    "def get_history(asset_id):\n",
    "    filepath = os.path.join(dir, str(asset_id) + \".json\")\n",
    "    try:\n",
    "        file = open(filepath, \"r\")\n",
    "        print(\"SKIPPED #\"+str(asset_id)+\" (in cache)\", end=\"\\33[2K\\r\")\n",
    "        file.close()\n",
    "    except:\n",
    "        file = open(filepath, \"w\")\n",
    "        fetched = False\n",
    "        while(not fetched):\n",
    "            try:\n",
    "                history_req = requests.get(history_api + str(asset_id), timeout=2)\n",
    "                fetched = True\n",
    "            except:\n",
    "                time.sleep(2)\n",
    "        file.write(history_req.text)\n",
    "        file.close()\n",
    "\n",
    "# i hope there's a better way to do this\n",
    "count = len(catalog[\"roblox_assetid\"])\n",
    "i = 0\n",
    "for asset_id in catalog[\"roblox_assetid\"]:\n",
    "    i += 1\n",
    "    print(\"fetching \"+str(asset_id)+\": \"+str(i)+\"/\"+str(count), end=\"\\33[2K\\r\")\n",
    "    get_history(asset_id)\n",
    "file.close()"
   ]
  },
  {
   "cell_type": "code",
   "execution_count": null,
   "metadata": {},
   "outputs": [],
   "source": [
    "###\n",
    "### Massage data into pandas\n",
    "###\n",
    "\n",
    "import pandas\n",
    "\n",
    "# Some metrics to encapsulate the historical data\n",
    "\n",
    "total_lifetime_volume = None # sum all the volumes\n",
    "total_historical_datapoints = None # len(arr)\n",
    "mean_daily_trades = None\n",
    "mean_daily_trades_30days = None\n",
    "mean_daily_trades_1yr = None\n",
    "# some sort of trend? \n",
    "\n",
    "df = pandas.DataFrame(catalog)\n",
    "df.drop(columns=[\"image\"], inplace=True)"
   ]
  },
  {
   "cell_type": "code",
   "execution_count": 19,
   "metadata": {
    "tags": []
   },
   "outputs": [
    {
     "data": {
      "application/vnd.jupyter.widget-view+json": {
       "model_id": "e073d781ee2647adbdd97f1a454fb811",
       "version_major": 2,
       "version_minor": 0
      },
      "text/plain": [
       "PerspectiveWidget(columns=['index', 'id', 'roblox_assetid', 'roblox_rap', 'roblox_value', 'robux_volume_30d_to…"
      ]
     },
     "execution_count": 19,
     "metadata": {},
     "output_type": "execute_result"
    }
   ],
   "source": [
    "###\n",
    "### Visualize!\n",
    "###\n",
    "\n",
    "import perspective\n",
    "\n",
    "table = perspective.Table(df)\n",
    "perspective.PerspectiveWidget(table)"
   ]
  },
  {
   "cell_type": "code",
   "execution_count": null,
   "metadata": {},
   "outputs": [],
   "source": []
  }
 ],
 "metadata": {
  "kernelspec": {
   "display_name": "Python 3 (ipykernel)",
   "language": "python",
   "name": "python3"
  },
  "language_info": {
   "codemirror_mode": {
    "name": "ipython",
    "version": 3
   },
   "file_extension": ".py",
   "mimetype": "text/x-python",
   "name": "python",
   "nbconvert_exporter": "python",
   "pygments_lexer": "ipython3",
   "version": "3.10.12"
  }
 },
 "nbformat": 4,
 "nbformat_minor": 4
}
