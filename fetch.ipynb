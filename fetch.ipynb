{
 "cells": [
  {
   "cell_type": "code",
   "execution_count": 7,
   "id": "1490f7ae-9235-47b2-b5d7-2c0b8beef468",
   "metadata": {
    "tags": []
   },
   "outputs": [
    {
     "name": "stdout",
     "output_type": "stream",
     "text": [
      "catalog is cached\n",
      "items found: 2498\n"
     ]
    }
   ],
   "source": [
    "###\n",
    "### Fetch full item catalog\n",
    "###\n",
    "\n",
    "import requests\n",
    "import json\n",
    "import pandas\n",
    "import numpy\n",
    "import datetime\n",
    "\n",
    "# NOTE: This is not the entire Roblox catalog. It is just the items with limited quantity.\n",
    "# These are the only items which actually carry IRL value. (Scarcity = value)\n",
    "# Limiteds can be official Roblox gear or they can be UGC (user generated content).\n",
    "# Additionally, this set is limited to what rblx.trade tracks. I'm unsure what that includes or excludes.\n",
    "\n",
    "url = \"https://rblx.trade/api/v1/catalog/all\"\n",
    "dir = \"./roblox-catalog.json\"\n",
    "try:\n",
    "    file = open(dir, \"r\")\n",
    "    print(\"catalog is cached\")\n",
    "    catalog = json.loads(file.read())\n",
    "    file.close()\n",
    "except:\n",
    "    catalog_req = requests.get(url)\n",
    "    print(\"no cache found at \" + url + \"; sending request\")\n",
    "    print(\"status: \" + str(catalog_req.status_code))\n",
    "    catalog = json.loads(catalog_req.text)\n",
    "    file = open(dir, \"w\")\n",
    "    file.write(catalog_req.text)\n",
    "    file.close()\n",
    "\n",
    "print(\"items found: \" + str(len(catalog)))"
   ]
  },
  {
   "cell_type": "code",
   "execution_count": 23,
   "id": "fd6cdd68-fb42-4d7e-9de9-f14a1600d39f",
   "metadata": {
    "tags": []
   },
   "outputs": [
    {
     "name": "stdout",
     "output_type": "stream",
     "text": [
      "(2498/2498) #99254358 (in cache)\u001b[2KKKK\r"
     ]
    }
   ],
   "source": [
    "###\n",
    "### Fetch asset prices and volumes\n",
    "###\n",
    "\n",
    "import os\n",
    "import requests\n",
    "import time\n",
    "import pandas\n",
    "\n",
    "df = pandas.DataFrame(catalog)\n",
    "dir = \"./roblox-itemvalues/\"\n",
    "history_api = \"https://rblx.trade/api/v1/item/graph/price-and-volume?assetId=_ID_\"\n",
    "details_api = \"https://catalog.roblox.com/v1/catalog/items/_ID_/details?itemType=Asset\"\n",
    "\n",
    "def get_history(asset_id, i, total):\n",
    "    filepath = \"{0}/{1}.json\".format(dir, str(asset_id))\n",
    "    \n",
    "    try:\n",
    "        file = open(filepath, \"r\")\n",
    "        print(\"({}/{}) #{} (in cache)\".format(i, total, asset_id), end=\"\\33[2K\\r\")\n",
    "        file.close()\n",
    "    except:\n",
    "        print(\"({}/{}) fetching #{}\".format(i, count, asset_id), end=\"\\33[2K\\r\")\n",
    "        file = open(filepath, \"w\")\n",
    "        fetched = False\n",
    "        while(not fetched):\n",
    "            try:\n",
    "                req = requests.get(history_api.replace(\"_ID_\", str(asset_id)), timeout=2)\n",
    "                fetched = True\n",
    "            except:\n",
    "                time.sleep(2)\n",
    "        file.write(req.text)\n",
    "        file.close()\n",
    "    \n",
    "def main():\n",
    "    try:\n",
    "        os.mkdir(dir)\n",
    "    except:\n",
    "        None\n",
    "    \n",
    "    count = len(df[\"roblox_assetid\"])\n",
    "    for (i, asset_id) in enumerate(df[\"roblox_assetid\"]):\n",
    "        get_history(asset_id, i+1, count)\n",
    "    \n",
    "\n",
    "main()"
   ]
  }
 ],
 "metadata": {
  "kernelspec": {
   "display_name": "Python 3 (ipykernel)",
   "language": "python",
   "name": "python3"
  },
  "language_info": {
   "codemirror_mode": {
    "name": "ipython",
    "version": 3
   },
   "file_extension": ".py",
   "mimetype": "text/x-python",
   "name": "python",
   "nbconvert_exporter": "python",
   "pygments_lexer": "ipython3",
   "version": "3.10.12"
  }
 },
 "nbformat": 4,
 "nbformat_minor": 5
}
