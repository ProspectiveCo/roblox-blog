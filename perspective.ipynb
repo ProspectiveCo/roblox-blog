{
 "cells": [
  {
   "cell_type": "code",
   "execution_count": 41,
   "metadata": {
    "tags": []
   },
   "outputs": [],
   "source": [
    "###\n",
    "### Load data, define functions.\n",
    "### Make sure you get the data with fetch.ipynb first!\n",
    "###\n",
    "\n",
    "import perspective\n",
    "import datetime\n",
    "import numpy\n",
    "import json\n",
    "\n",
    "catalog_file = open(\"roblox-catalog.json\")\n",
    "catalog = json.loads(catalog_file.read())\n",
    "catalog_file.close()\n",
    "\n",
    "df = pandas.DataFrame(catalog)\n",
    "df.drop(columns=[\"image\"], inplace=True)\n",
    "df = df.astype({\n",
    "    \"roblox_lowestprice\": int,\n",
    "})\n",
    "\n",
    "def get_catalog_table():\n",
    "    # schema\n",
    "    table = perspective.Table({\n",
    "        'index': int,\n",
    "        'id': int,\n",
    "        'roblox_assetid': int,\n",
    "        'roblox_rap': int,\n",
    "        'roblox_value': int,\n",
    "        'robux_volume_30d_total': int,\n",
    "        'popularity_position': int,\n",
    "        'is_valued': bool,\n",
    "        'is_rare': bool,\n",
    "        'is_projected': bool,\n",
    "        'roblox_name': str,\n",
    "        'roblox_acronym': str,\n",
    "        'roblox_lowestprice': int,\n",
    "        'price_updated_at': datetime.datetime,\n",
    "        'went_limited_at': datetime.datetime\n",
    "    })\n",
    "    table.update(df)\n",
    "    return table\n",
    "    \n",
    "def load_config(name):\n",
    "    config = open(\"configs/{}.config.json\".format(name), \"r\")\n",
    "    config_data = json.loads(config.read())\n",
    "    config.close()\n",
    "\n",
    "    widget = perspective.PerspectiveWidget(get_catalog_table())\n",
    "    widget.restore(**config_data)\n",
    "    return widget\n",
    "\n",
    "def get_trade_history(asset_id, name):\n",
    "    data = open(\"roblox-itemvalues/{0}.json\".format(asset_id))\n",
    "    df = pandas.DataFrame(json.loads(data.read()))\n",
    "    data.close()\n",
    "\n",
    "    configfile = open(\"configs/trade-history.config.json\")\n",
    "    config = json.loads(configfile.read())\n",
    "    config[\"title\"] = name\n",
    "    configfile.close()\n",
    "\n",
    "    item_table = perspective.Table({\n",
    "        'index': int,\n",
    "        'average_price': int,\n",
    "        'volume': int,\n",
    "        'date': datetime.datetime\n",
    "    })\n",
    "    item_table.update(df)\n",
    "    widget = perspective.PerspectiveWidget(item_table)\n",
    "    widget.restore(**config)\n",
    "    return widget"
   ]
  },
  {
   "cell_type": "code",
   "execution_count": 42,
   "metadata": {
    "tags": []
   },
   "outputs": [
    {
     "data": {
      "application/vnd.jupyter.widget-view+json": {
       "model_id": "7204e17fe02244f997220ae9c6913a75",
       "version_major": 2,
       "version_minor": 0
      },
      "text/plain": [
       "PerspectiveWidget(columns=['index', 'id', 'roblox_assetid', 'roblox_rap', 'roblox_value', 'robux_volume_30d_to…"
      ]
     },
     "execution_count": 42,
     "metadata": {},
     "output_type": "execute_result"
    }
   ],
   "source": [
    "### See all data!\n",
    "perspective.PerspectiveWidget(get_catalog_table())"
   ]
  },
  {
   "cell_type": "code",
   "execution_count": 43,
   "metadata": {
    "tags": []
   },
   "outputs": [
    {
     "data": {
      "application/vnd.jupyter.widget-view+json": {
       "model_id": "de53e9a7da174407ab4a6427b1b87656",
       "version_major": 2,
       "version_minor": 0
      },
      "text/plain": [
       "PerspectiveWidget(columns=['popularity_position', 'rap - value', 'overvalued_str', None, None, 'roblox_name', …"
      ]
     },
     "execution_count": 43,
     "metadata": {},
     "output_type": "execute_result"
    }
   ],
   "source": [
    "### See over/undervalued assets\n",
    "load_config(\"overvalued\")"
   ]
  },
  {
   "cell_type": "code",
   "execution_count": 44,
   "metadata": {
    "tags": []
   },
   "outputs": [
    {
     "data": {
      "application/vnd.jupyter.widget-view+json": {
       "model_id": "1ad3f96c94e7442baad2b18d329d3dc3",
       "version_major": 2,
       "version_minor": 0
      },
      "text/plain": [
       "PerspectiveWidget(aggregates={'popularity_position': 'sum', 'rap - value': 'sum'}, columns=['rap - value', 'po…"
      ]
     },
     "execution_count": 44,
     "metadata": {},
     "output_type": "execute_result"
    }
   ],
   "source": [
    "### See over/undervalued assets (x/y)\n",
    "load_config(\"overvalued-xy\")"
   ]
  },
  {
   "cell_type": "code",
   "execution_count": 45,
   "metadata": {
    "tags": []
   },
   "outputs": [
    {
     "data": {
      "application/vnd.jupyter.widget-view+json": {
       "model_id": "0a0ceb081f78403db911e69ee2260d4f",
       "version_major": 2,
       "version_minor": 0
      },
      "text/plain": [
       "PerspectiveWidget(columns=['went_limited_at', 'robux_volume_30d_total', 'Is Fedora', None, None, 'roblox_name'…"
      ]
     },
     "execution_count": 45,
     "metadata": {},
     "output_type": "execute_result"
    }
   ],
   "source": [
    "### Fedoras are hot right now!\n",
    "load_config(\"fedoras\")"
   ]
  },
  {
   "cell_type": "code",
   "execution_count": 48,
   "metadata": {
    "tags": []
   },
   "outputs": [
    {
     "data": {
      "application/vnd.jupyter.widget-view+json": {
       "model_id": "199345f93cd6428ab81941299aa0d76a",
       "version_major": 2,
       "version_minor": 0
      },
      "text/plain": [
       "PerspectiveWidget(columns=['index', 'average_price', 'devex value (USD)', 'volume', 'date'], expressions=['// …"
      ]
     },
     "execution_count": 48,
     "metadata": {},
     "output_type": "execute_result"
    }
   ],
   "source": [
    "## Legit\n",
    "get_trade_history(\"19027209\", \"Legit\")"
   ]
  },
  {
   "cell_type": "code",
   "execution_count": 49,
   "metadata": {
    "tags": []
   },
   "outputs": [
    {
     "data": {
      "application/vnd.jupyter.widget-view+json": {
       "model_id": "1bbd332f44e54566bd7ead4f1efce51a",
       "version_major": 2,
       "version_minor": 0
      },
      "text/plain": [
       "PerspectiveWidget(columns=['index', 'average_price', 'devex value (USD)', 'volume', 'date'], expressions=['// …"
      ]
     },
     "execution_count": 49,
     "metadata": {},
     "output_type": "execute_result"
    }
   ],
   "source": [
    "### SSHF\n",
    "get_trade_history(\"494291269\", \"SSHF\")"
   ]
  },
  {
   "cell_type": "code",
   "execution_count": 47,
   "metadata": {
    "tags": []
   },
   "outputs": [
    {
     "data": {
      "application/vnd.jupyter.widget-view+json": {
       "model_id": "fbf09dc53e5a478a8c5b86772a5f9b26",
       "version_major": 2,
       "version_minor": 0
      },
      "text/plain": [
       "PerspectiveWidget(columns=['index', 'average_price', 'devex value (USD)', 'volume', 'date'], expressions=['// …"
      ]
     },
     "execution_count": 47,
     "metadata": {},
     "output_type": "execute_result"
    }
   ],
   "source": [
    "## INF\n",
    "get_trade_history(\"31101391\", \"INF\")"
   ]
  },
  {
   "cell_type": "code",
   "execution_count": null,
   "metadata": {},
   "outputs": [],
   "source": []
  }
 ],
 "metadata": {
  "kernelspec": {
   "display_name": "Python 3 (ipykernel)",
   "language": "python",
   "name": "python3"
  },
  "language_info": {
   "codemirror_mode": {
    "name": "ipython",
    "version": 3
   },
   "file_extension": ".py",
   "mimetype": "text/x-python",
   "name": "python",
   "nbconvert_exporter": "python",
   "pygments_lexer": "ipython3",
   "version": "3.10.12"
  }
 },
 "nbformat": 4,
 "nbformat_minor": 4
}
