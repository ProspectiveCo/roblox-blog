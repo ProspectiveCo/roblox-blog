{
 "cells": [
  {
   "cell_type": "code",
   "execution_count": 63,
   "metadata": {
    "tags": []
   },
   "outputs": [],
   "source": [
    "###\n",
    "### Load data, define functions.\n",
    "### Make sure you get the data with fetch.ipynb first!\n",
    "###\n",
    "\n",
    "import perspective\n",
    "import datetime\n",
    "import numpy\n",
    "import json\n",
    "\n",
    "catalog_file = open(\"roblox-catalog.json\")\n",
    "catalog = json.loads(catalog_file.read())\n",
    "catalog_file.close()\n",
    "\n",
    "df = pandas.DataFrame(catalog)\n",
    "df.drop(columns=[\"image\"], inplace=True)\n",
    "df = df.astype({\n",
    "    \"roblox_lowestprice\": int,\n",
    "})\n",
    "\n",
    "def get_catalog_table():\n",
    "    # schema\n",
    "    table = perspective.Table({\n",
    "        'index': int,\n",
    "        'id': int,\n",
    "        'roblox_assetid': float,\n",
    "        'roblox_rap': int,\n",
    "        'roblox_value': int,\n",
    "        'robux_volume_30d_total': int,\n",
    "        'popularity_position': int,\n",
    "        'is_valued': bool,\n",
    "        'is_rare': bool,\n",
    "        'is_projected': bool,\n",
    "        'roblox_name': str,\n",
    "        'roblox_acronym': str,\n",
    "        'roblox_lowestprice': float,\n",
    "        'price_updated_at': datetime.datetime,\n",
    "        'went_limited_at': datetime.datetime\n",
    "    })\n",
    "    table.update(df)\n",
    "    return table\n",
    "    \n",
    "def load_config(name):\n",
    "    config = open(\"configs/{}.config.json\".format(name), \"r\")\n",
    "    config_data = json.loads(config.read())\n",
    "    config.close()\n",
    "\n",
    "    widget = perspective.PerspectiveWidget(get_catalog_table())\n",
    "    widget.restore(**config_data)\n",
    "    return widget\n",
    "\n",
    "def get_trade_history(asset_id, name):\n",
    "    data = open(\"roblox-itemvalues/{0}.json\".format(asset_id), \"r\")\n",
    "    df = pandas.DataFrame(json.loads(data.read()))\n",
    "    data.close()\n",
    "\n",
    "    configfile = open(\"configs/trade-history.config.json\")\n",
    "    config = json.loads(configfile.read())\n",
    "    config[\"title\"] = name\n",
    "    configfile.close()\n",
    "\n",
    "    item_table = perspective.Table({\n",
    "        'index': int,\n",
    "        'average_price': int,\n",
    "        'volume': int,\n",
    "        'date': datetime.datetime\n",
    "    })\n",
    "    item_table.update(df)\n",
    "    widget = perspective.PerspectiveWidget(item_table)\n",
    "    widget.restore(**config)\n",
    "    return widget"
   ]
  },
  {
   "cell_type": "code",
   "execution_count": 51,
   "metadata": {
    "tags": []
   },
   "outputs": [
    {
     "data": {
      "application/vnd.jupyter.widget-view+json": {
       "model_id": "785daba4e6824cbda0b6bfd35ddf862d",
       "version_major": 2,
       "version_minor": 0
      },
      "text/plain": [
       "PerspectiveWidget(columns=['index', 'id', 'roblox_assetid', 'roblox_rap', 'roblox_value', 'robux_volume_30d_to…"
      ]
     },
     "execution_count": 51,
     "metadata": {},
     "output_type": "execute_result"
    }
   ],
   "source": [
    "### See all data!\n",
    "perspective.PerspectiveWidget(get_catalog_table())"
   ]
  },
  {
   "cell_type": "code",
   "execution_count": 67,
   "metadata": {
    "tags": []
   },
   "outputs": [
    {
     "data": {
      "application/vnd.jupyter.widget-view+json": {
       "model_id": "c5fef904fb204a3e811b7c282bb6e29a",
       "version_major": 2,
       "version_minor": 0
      },
      "text/plain": [
       "PerspectiveWidget(columns=['popularity_position', 'roblox_rap', None, None, None, 'Devex RAP (USD)', 'roblox_v…"
      ]
     },
     "execution_count": 67,
     "metadata": {},
     "output_type": "execute_result"
    }
   ],
   "source": [
    "load_config(\"rap-by-pop\")"
   ]
  },
  {
   "cell_type": "code",
   "execution_count": 55,
   "metadata": {
    "tags": []
   },
   "outputs": [
    {
     "data": {
      "application/vnd.jupyter.widget-view+json": {
       "model_id": "b76d1926b38e4c17b329c6f9440d644b",
       "version_major": 2,
       "version_minor": 0
      },
      "text/plain": [
       "PerspectiveWidget(columns=['popularity_position', 'rap - value', 'overvalued_str', None, None, 'roblox_name', …"
      ]
     },
     "execution_count": 55,
     "metadata": {},
     "output_type": "execute_result"
    }
   ],
   "source": [
    "### See over/undervalued assets\n",
    "load_config(\"overvalued\")"
   ]
  },
  {
   "cell_type": "code",
   "execution_count": 56,
   "metadata": {
    "tags": []
   },
   "outputs": [
    {
     "data": {
      "application/vnd.jupyter.widget-view+json": {
       "model_id": "445bda8b26d74c53a3c0a86038115240",
       "version_major": 2,
       "version_minor": 0
      },
      "text/plain": [
       "PerspectiveWidget(columns=['popularity_position', 'abs(rap-val)', 'overvalued_str', None, None, 'roblox_name',…"
      ]
     },
     "execution_count": 56,
     "metadata": {},
     "output_type": "execute_result"
    }
   ],
   "source": [
    "### See over/undervalued assets (absolute val)\n",
    "load_config(\"overvalued-abs\")"
   ]
  },
  {
   "cell_type": "code",
   "execution_count": 69,
   "metadata": {
    "tags": []
   },
   "outputs": [
    {
     "data": {
      "application/vnd.jupyter.widget-view+json": {
       "model_id": "498af5276f1f4d4cb7486e857e0e41dc",
       "version_major": 2,
       "version_minor": 0
      },
      "text/plain": [
       "PerspectiveWidget(columns=['popularity_position', 'log(rap)', 'measure', None, None, 'roblox_name', 'roblox_as…"
      ]
     },
     "execution_count": 69,
     "metadata": {},
     "output_type": "execute_result"
    }
   ],
   "source": [
    "load_config(\"rare\")"
   ]
  },
  {
   "cell_type": "code",
   "execution_count": 68,
   "metadata": {
    "tags": []
   },
   "outputs": [
    {
     "data": {
      "application/vnd.jupyter.widget-view+json": {
       "model_id": "f4f348b3e22a4475a757e5210e3470e4",
       "version_major": 2,
       "version_minor": 0
      },
      "text/plain": [
       "PerspectiveWidget(columns=['went_limited_at', 'robux_volume_30d_total', 'Is Fedora', None, None, 'roblox_name'…"
      ]
     },
     "execution_count": 68,
     "metadata": {},
     "output_type": "execute_result"
    }
   ],
   "source": [
    "load_config(\"volume-x-origin\")"
   ]
  },
  {
   "cell_type": "code",
   "execution_count": 48,
   "metadata": {
    "tags": []
   },
   "outputs": [
    {
     "data": {
      "application/vnd.jupyter.widget-view+json": {
       "model_id": "199345f93cd6428ab81941299aa0d76a",
       "version_major": 2,
       "version_minor": 0
      },
      "text/plain": [
       "PerspectiveWidget(columns=['index', 'average_price', 'devex value (USD)', 'volume', 'date'], expressions=['// …"
      ]
     },
     "execution_count": 48,
     "metadata": {},
     "output_type": "execute_result"
    }
   ],
   "source": [
    "## Legit\n",
    "get_trade_history(\"19027209\", \"Legit\")"
   ]
  },
  {
   "cell_type": "code",
   "execution_count": 49,
   "metadata": {
    "tags": []
   },
   "outputs": [
    {
     "data": {
      "application/vnd.jupyter.widget-view+json": {
       "model_id": "1bbd332f44e54566bd7ead4f1efce51a",
       "version_major": 2,
       "version_minor": 0
      },
      "text/plain": [
       "PerspectiveWidget(columns=['index', 'average_price', 'devex value (USD)', 'volume', 'date'], expressions=['// …"
      ]
     },
     "execution_count": 49,
     "metadata": {},
     "output_type": "execute_result"
    }
   ],
   "source": [
    "### SSHF\n",
    "get_trade_history(\"494291269\", \"SSHF\")"
   ]
  },
  {
   "cell_type": "code",
   "execution_count": 62,
   "metadata": {
    "tags": []
   },
   "outputs": [
    {
     "data": {
      "application/vnd.jupyter.widget-view+json": {
       "model_id": "4603502461944b1cb3f1d4ca6fb48792",
       "version_major": 2,
       "version_minor": 0
      },
      "text/plain": [
       "PerspectiveWidget(columns=['index', 'average_price', 'devex value (USD)', 'volume', 'date'], expressions=['// …"
      ]
     },
     "execution_count": 62,
     "metadata": {},
     "output_type": "execute_result"
    }
   ],
   "source": [
    "get_trade_history(\"48545806\", \"FRIG\")"
   ]
  },
  {
   "cell_type": "code",
   "execution_count": 60,
   "metadata": {},
   "outputs": [
    {
     "data": {
      "application/vnd.jupyter.widget-view+json": {
       "model_id": "654ae093a82e436ba028c76eebeed533",
       "version_major": 2,
       "version_minor": 0
      },
      "text/plain": [
       "PerspectiveWidget(columns=['index', 'average_price', 'devex value (USD)', 'volume', 'date'], expressions=['// …"
      ]
     },
     "execution_count": 60,
     "metadata": {},
     "output_type": "execute_result"
    }
   ],
   "source": [
    "get_trade_history(\"119916949\", \"PSTF\")"
   ]
  },
  {
   "cell_type": "code",
   "execution_count": null,
   "metadata": {},
   "outputs": [],
   "source": []
  }
 ],
 "metadata": {
  "kernelspec": {
   "display_name": "Python 3 (ipykernel)",
   "language": "python",
   "name": "python3"
  },
  "language_info": {
   "codemirror_mode": {
    "name": "ipython",
    "version": 3
   },
   "file_extension": ".py",
   "mimetype": "text/x-python",
   "name": "python",
   "nbconvert_exporter": "python",
   "pygments_lexer": "ipython3",
   "version": "3.10.12"
  }
 },
 "nbformat": 4,
 "nbformat_minor": 4
}
